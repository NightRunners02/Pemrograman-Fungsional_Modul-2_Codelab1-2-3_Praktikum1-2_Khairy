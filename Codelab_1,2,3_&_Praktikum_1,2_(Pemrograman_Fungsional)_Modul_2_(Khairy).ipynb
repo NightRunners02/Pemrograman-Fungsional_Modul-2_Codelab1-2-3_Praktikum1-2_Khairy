{
  "nbformat": 4,
  "nbformat_minor": 0,
  "metadata": {
    "colab": {
      "provenance": [],
      "toc_visible": true
    },
    "kernelspec": {
      "name": "python3",
      "display_name": "Python 3"
    },
    "language_info": {
      "name": "python"
    }
  },
  "cells": [
    {
      "cell_type": "markdown",
      "source": [
        "# MODUL 2\n"
      ],
      "metadata": {
        "id": "lTRuswB4LLRa"
      }
    },
    {
      "cell_type": "markdown",
      "source": [
        "## **Codelab 1**\n"
      ],
      "metadata": {
        "id": "1QZPuQx9F51b"
      }
    },
    {
      "cell_type": "markdown",
      "source": [
        "a. Ubahlah fungsi ‘tambah_nilai’ yang ada pada halaman 4 bab Pure Function berikut menjadi sebuah pure function sesuai dengan step yang sudah dijelaskan!"
      ],
      "metadata": {
        "id": "TkOO3qOHGahB"
      }
    },
    {
      "cell_type": "code",
      "source": [
        "nilai = [ {'matkul': 'Fungsional', 'nilai': 95},\n",
        "          {'matkul': 'Mobile', 'nilai': 55} ]\n",
        "\n",
        "def tambah_nilai(nilai, nama_matkul, jumlah_nilai):\n",
        "    # Buat salinan dari list 'nilai'\n",
        "    nilai_baru = [item.copy() for item in nilai]\n",
        "\n",
        "    # Cari mata kuliah dan update nilai jika ditemukan\n",
        "    for item in nilai_baru:\n",
        "        if item['matkul'] == nama_matkul:\n",
        "            item['nilai'] += jumlah_nilai\n",
        "            print(f\"Nilai {nama_matkul} ditambahkan {jumlah_nilai}. \\nTotal nilai {nama_matkul} saat ini {item['nilai']}\")\n",
        "            break\n",
        "    else:\n",
        "        print(f\"Mata kuliah {nama_matkul} tidak ditemukan dalam daftar!\")\n",
        "\n",
        "    # Kembalikan list baru yang sudah diperbarui\n",
        "    return nilai_baru\n",
        "\n",
        "# Panggil fungsi tambah_nilai dengan list 'nilai' sebagai input\n",
        "nilai_baru = tambah_nilai(nilai, 'Fungsional', 10)\n",
        "\n",
        "# Cek nilai awal\n",
        "print(\"Nilai awal: \", nilai)\n",
        "\n",
        "# Cek nilai hasil tambah_nilai\n",
        "print(\"Nilai update: \", nilai_baru)\n"
      ],
      "metadata": {
        "colab": {
          "base_uri": "https://localhost:8080/"
        },
        "id": "GNmH2ad7HCwC",
        "outputId": "bc105d67-005f-4cd3-d235-a1d7f198d546"
      },
      "execution_count": null,
      "outputs": [
        {
          "output_type": "stream",
          "name": "stdout",
          "text": [
            "Nilai Fungsional ditambahkan 10. \n",
            "Total nilai Fungsional saat ini 105\n",
            "Nilai awal:  [{'matkul': 'Fungsional', 'nilai': 95}, {'matkul': 'Mobile', 'nilai': 55}]\n",
            "Nilai update:  [{'matkul': 'Fungsional', 'nilai': 105}, {'matkul': 'Mobile', 'nilai': 55}]\n"
          ]
        }
      ]
    },
    {
      "cell_type": "markdown",
      "source": [
        "b. Tambahkan fungsi generator ‘cetak_nilai’ untuk menampilkan data nilai. Panggil fungsinya dan cetak data generator dengan looping for untuk nim GANJIL dan fungsi next() untuk nim GENAP!!"
      ],
      "metadata": {
        "id": "xon61zKwHxrI"
      }
    },
    {
      "cell_type": "code",
      "source": [
        "# TO-DO 1: deklarasi fungsi generator\n",
        "def cetak_nilai(param):\n",
        "    # TO-DO 2: loop/iterasi data menggunakan generator\n",
        "    for item in param:\n",
        "        # TO-DO 3: output fungsi, menampilkan tiap item\n",
        "        yield item\n",
        "\n",
        "# Panggil fungsi cetak_nilai\n",
        "data_nilai = [{'matkul': 'Fungsional', 'nilai': 95}, {'matkul': 'Mobile', 'nilai': 55}]\n",
        "nilai_generator = cetak_nilai(data_nilai)  # Generator\n",
        "\n",
        "# TO-DO 5: tampilkan data/print out generator dengan loop for (NIM ganjil)\n",
        "print(\"Output untuk NIM ganjil (dengan loop for):\")\n",
        "for item in nilai_generator:\n",
        "    print(item)\n"
      ],
      "metadata": {
        "colab": {
          "base_uri": "https://localhost:8080/"
        },
        "id": "jUaJD_zJIEFA",
        "outputId": "f668ea6d-d0b7-4621-975d-8d844838b92b"
      },
      "execution_count": null,
      "outputs": [
        {
          "output_type": "stream",
          "name": "stdout",
          "text": [
            "Output untuk NIM ganjil (dengan loop for):\n",
            "{'matkul': 'Fungsional', 'nilai': 95}\n",
            "{'matkul': 'Mobile', 'nilai': 55}\n"
          ]
        }
      ]
    },
    {
      "cell_type": "markdown",
      "source": [
        "## **Codelab 2**\n"
      ],
      "metadata": {
        "id": "YT0KevQqJyiR"
      }
    },
    {
      "cell_type": "markdown",
      "source": [
        " Telah disediakan struktur data global berupa list 'data mahasiswa' yang digunakan untuk menghitung nilai mahasiswa. Setiap nilai direpresentasikan sebagai dictionary dengan atribut 'nama', 'matkul', dan 'nilai'."
      ],
      "metadata": {
        "id": "-_zla27yJ5Q5"
      }
    },
    {
      "cell_type": "code",
      "source": [
        "data_mahasiswa = [\n",
        "    {'nama': 'Karina', 'matkul': 'Pemrograman Fungsional', 'nilai': 90},\n",
        "    {'nama': 'Seulgi', 'matkul': 'Pemrograman Mobile', 'nilai': 56},\n",
        "    {'nama': 'Wonyoung', 'matkul': 'Pemrograman Web', 'nilai': 95},\n",
        "    {'nama': 'Hanni', 'matkul': 'Piranti Cerdas', 'nilai': 88},\n",
        "    {'nama': 'Jihyo', 'matkul': 'Jaringan Komputer', 'nilai': 63},\n",
        "]\n",
        "\n",
        "def hitung_rata_rata(data_mahasiswa):\n",
        "    total_nilai = 0\n",
        "    for mahasiswa in data_mahasiswa:\n",
        "        total_nilai += mahasiswa['nilai']\n",
        "\n",
        "    rata_rata = total_nilai / len(data_mahasiswa)\n",
        "    return rata_rata\n",
        "\n",
        "# Panggil fungsi untuk menghitung rata-rata\n",
        "rata_rata_nilai = hitung_rata_rata(data_mahasiswa)\n",
        "print(f\"Rata-rata nilai mahasiswa: {rata_rata_nilai}\")\n",
        "\n",
        "def cari_nilai_tertinggi(data_mahasiswa):\n",
        "    nilai_tertinggi = max(data_mahasiswa, key=lambda x: x['nilai'])\n",
        "    return nilai_tertinggi\n",
        "\n",
        "# Panggil fungsi untuk mencari nilai tertinggi\n",
        "mahasiswa_nilai_tertinggi = cari_nilai_tertinggi(data_mahasiswa)\n",
        "print(f\"Mahasiswa dengan nilai tertinggi: {mahasiswa_nilai_tertinggi['nama']} ({mahasiswa_nilai_tertinggi['nilai']})\")\n",
        "\n",
        "def cari_nilai_terendah(data_mahasiswa):\n",
        "    nilai_terendah = min(data_mahasiswa, key=lambda x: x['nilai'])\n",
        "    return nilai_terendah\n",
        "\n",
        "# Panggil fungsi untuk mencari nilai terendah\n",
        "mahasiswa_nilai_terendah = cari_nilai_terendah(data_mahasiswa)\n",
        "print(f\"Mahasiswa dengan nilai terendah: {mahasiswa_nilai_terendah['nama']} ({mahasiswa_nilai_terendah['nilai']})\")\n",
        "\n",
        "def kelompokkan_mahasiswa(data_mahasiswa):\n",
        "    kategori = {'A': [], 'B': [], 'C': [], 'D': []}\n",
        "\n",
        "    for mahasiswa in data_mahasiswa:\n",
        "        if mahasiswa['nilai'] >= 85:\n",
        "            kategori['A'].append(mahasiswa['nama'])\n",
        "        elif mahasiswa['nilai'] >= 70:\n",
        "            kategori['B'].append(mahasiswa['nama'])\n",
        "        elif mahasiswa['nilai'] >= 50:\n",
        "            kategori['C'].append(mahasiswa['nama'])\n",
        "        else:\n",
        "            kategori['D'].append(mahasiswa['nama'])\n",
        "\n",
        "    return kategori\n",
        "\n",
        "# Panggil fungsi untuk mengelompokkan mahasiswa\n",
        "kategori_mahasiswa = kelompokkan_mahasiswa(data_mahasiswa)\n",
        "print(f\"Kategori nilai mahasiswa: {kategori_mahasiswa}\")\n"
      ],
      "metadata": {
        "colab": {
          "base_uri": "https://localhost:8080/"
        },
        "id": "ka6B8H0cKaE3",
        "outputId": "e9712bf3-d269-4dd5-8996-a752ac744c4b"
      },
      "execution_count": null,
      "outputs": [
        {
          "output_type": "stream",
          "name": "stdout",
          "text": [
            "Rata-rata nilai mahasiswa: 78.4\n",
            "Mahasiswa dengan nilai tertinggi: Wonyoung (95)\n",
            "Mahasiswa dengan nilai terendah: Seulgi (56)\n",
            "Kategori nilai mahasiswa: {'A': ['Karina', 'Wonyoung', 'Hanni'], 'B': [], 'C': ['Seulgi', 'Jihyo'], 'D': []}\n"
          ]
        }
      ]
    },
    {
      "cell_type": "markdown",
      "source": [
        "a. Buatlah fungsi ‘rata_rata’ yang menghasilkan nilai rata-rata dari kelima mahasiswa tersebut. Gunakan pure function dan implementasikan fungsi deklaratif."
      ],
      "metadata": {
        "id": "Ur9TJdp8K9E3"
      }
    },
    {
      "cell_type": "code",
      "source": [
        "# TO-DO 1: deklarasi fungsi\n",
        "def rata_rata(param):\n",
        "    # TO-DO 2: proses hitung rata-rata\n",
        "    total_nilai = sum(map(lambda x: x['nilai'], param))  # Mengambil nilai dan menjumlahkan\n",
        "    rata_rata_nilai = total_nilai / len(param)  # Menghitung rata-rata\n",
        "    return rata_rata_nilai\n",
        "\n",
        "# TO-DO 4: panggil fungsi rata_rata() dan tampilkan hasilnya\n",
        "data_mahasiswa = [\n",
        "    {'nama': 'Karina', 'matkul': 'Pemrograman Fungsional', 'nilai': 90},\n",
        "    {'nama': 'Seulgi', 'matkul': 'Pemrograman Mobile', 'nilai': 56},\n",
        "    {'nama': 'Wonyoung', 'matkul': 'Pemrograman Web', 'nilai': 95},\n",
        "    {'nama': 'Hanni', 'matkul': 'Piranti Cerdas', 'nilai': 88},\n",
        "    {'nama': 'Jihyo', 'matkul': 'Jaringan Komputer', 'nilai': 63},\n",
        "]\n",
        "\n",
        "# Panggil fungsi rata_rata\n",
        "hasil_rata_rata = rata_rata(data_mahasiswa)\n",
        "\n",
        "# TO-DO 3: tampilkan hasil rata-rata\n",
        "print(\"Rata-rata nilai kelima mahasiswa tersebut adalah: \", hasil_rata_rata)\n"
      ],
      "metadata": {
        "colab": {
          "base_uri": "https://localhost:8080/"
        },
        "id": "YxEsOl1aK8oo",
        "outputId": "b981a43a-9a9e-42dc-ccb2-58630c79bb98"
      },
      "execution_count": null,
      "outputs": [
        {
          "output_type": "stream",
          "name": "stdout",
          "text": [
            "Rata-rata nilai kelima mahasiswa tersebut adalah:  78.4\n"
          ]
        }
      ]
    },
    {
      "cell_type": "markdown",
      "source": [
        "b. Buatlah sebuah fungsi 'kelulusan' yang menerima input data_mahasiswa dan mengembalikan daftar baru dari data_mahasiswa dengan mengubah value nilai menjadi  ‘sempurna’ untuk nilai 85 keatas, ‘memenuhi’ untuk nilai kurang dari 85 dan ‘gagal’ untuk nilai dibawah 60. dan tampilkan hasilnya"
      ],
      "metadata": {
        "id": "l8nARliCMnB_"
      }
    },
    {
      "cell_type": "code",
      "source": [
        "# TO-DO 1: deklarasi fungsi\n",
        "def kelulusan(param):\n",
        "    # TO-DO 2: buat salinan data baru agar tidak merubah data asli (effect-free)\n",
        "    data_baru = [mahasiswa.copy() for mahasiswa in param]\n",
        "\n",
        "    # TO-DO 3: ubah data nilai sesuai ketentuan\n",
        "    for mahasiswa in data_baru:\n",
        "        if mahasiswa['nilai'] >= 85:\n",
        "            mahasiswa['nilai'] = 'sempurna'\n",
        "        elif mahasiswa['nilai'] >= 60:\n",
        "            mahasiswa['nilai'] = 'memenuhi'\n",
        "        else:\n",
        "            mahasiswa['nilai'] = 'gagal'\n",
        "\n",
        "    # TO-DO 4: output fungsi\n",
        "    return data_baru\n",
        "\n",
        "# Data mahasiswa asli\n",
        "data_mahasiswa = [\n",
        "    {'nama': 'Karina', 'matkul': 'Pemrograman Fungsional', 'nilai': 90},\n",
        "    {'nama': 'Seulgi', 'matkul': 'Pemrograman Mobile', 'nilai': 56},\n",
        "    {'nama': 'Wonyoung', 'matkul': 'Pemrograman Web', 'nilai': 95},\n",
        "    {'nama': 'Hanni', 'matkul': 'Piranti Cerdas', 'nilai': 88},\n",
        "    {'nama': 'Jihyo', 'matkul': 'Jaringan Komputer', 'nilai': 63},\n",
        "]\n",
        "\n",
        "# TO-DO 5: panggil fungsi dan tampilkan hasilnya\n",
        "hasil_kelulusan = kelulusan(data_mahasiswa)\n",
        "\n",
        "# Cetak data kelulusan mahasiswa secara vertikal atau per baris\n",
        "print(\"Data kelulusan mahasiswa:\")\n",
        "for mahasiswa in hasil_kelulusan:\n",
        "    print(f\"Nama: {mahasiswa['nama']}, Matkul: {mahasiswa['matkul']}, Status Nilai: {mahasiswa['nilai']}\")\n"
      ],
      "metadata": {
        "colab": {
          "base_uri": "https://localhost:8080/"
        },
        "id": "-KVgvoeuMn5H",
        "outputId": "cb57553d-2098-43be-bcf5-920537c498f1"
      },
      "execution_count": null,
      "outputs": [
        {
          "output_type": "stream",
          "name": "stdout",
          "text": [
            "Data kelulusan mahasiswa:\n",
            "Nama: Karina, Matkul: Pemrograman Fungsional, Status Nilai: sempurna\n",
            "Nama: Seulgi, Matkul: Pemrograman Mobile, Status Nilai: gagal\n",
            "Nama: Wonyoung, Matkul: Pemrograman Web, Status Nilai: sempurna\n",
            "Nama: Hanni, Matkul: Piranti Cerdas, Status Nilai: sempurna\n",
            "Nama: Jihyo, Matkul: Jaringan Komputer, Status Nilai: memenuhi\n"
          ]
        }
      ]
    },
    {
      "cell_type": "markdown",
      "source": [
        "c.  Buatlah sebuah fungsi generator untuk mencetak nilai dari daftar nilai mahasiswa tersebut sesuai NIM akhir kalian. Jika NIM akhir genap, maka cetaklah nilai yang genap saja. Jika NIM ganjil, maka cetaklah nilai ganjil saja."
      ],
      "metadata": {
        "id": "ohq7ZfHbNmzO"
      }
    },
    {
      "cell_type": "code",
      "source": [
        "# Data mahasiswa asli\n",
        "data_mahasiswa = [\n",
        "    {'nama': 'Karina', 'matkul': 'Pemrograman Fungsional', 'nilai': 90},\n",
        "    {'nama': 'Seulgi', 'matkul': 'Pemrograman Mobile', 'nilai': 56},\n",
        "    {'nama': 'Wonyoung', 'matkul': 'Pemrograman Web', 'nilai': 95},\n",
        "    {'nama': 'Hanni', 'matkul': 'Piranti Cerdas', 'nilai': 88},\n",
        "    {'nama': 'Jihyo', 'matkul': 'Jaringan Komputer', 'nilai': 63},\n",
        "]\n",
        "\n",
        "# TO_DO 1: deklarasi fungsi generator\n",
        "def cetak_nilai(param, nim_akhir):\n",
        "    # TO-DO 2: isi fungsi\n",
        "    if nim_akhir % 2 == 0:  # NIM genap\n",
        "        for mahasiswa in param:\n",
        "            if mahasiswa['nilai'] % 2 == 0:  # Nilai genap\n",
        "                yield mahasiswa\n",
        "    else:  # NIM ganjil\n",
        "        for mahasiswa in param:\n",
        "            if mahasiswa['nilai'] % 2 != 0:  # Nilai ganjil\n",
        "                yield mahasiswa\n",
        "\n",
        "# TO_DO 4: panggil fungsi generator untuk membuat generator object\n",
        "nim_akhir = 1  # Ganti dengan 0 jika NIM genap\n",
        "generator_nilai = cetak_nilai(data_mahasiswa, nim_akhir)\n",
        "\n",
        "# TO_DO 5: menampilkan/print hasil dari generator object\n",
        "print(\"Nilai mahasiswa yang sesuai dengan NIM akhir:\")\n",
        "for nilai in generator_nilai:\n",
        "    print(f\"Nama: {nilai['nama']}, Matkul: {nilai['matkul']}, Nilai: {nilai['nilai']}\")\n"
      ],
      "metadata": {
        "colab": {
          "base_uri": "https://localhost:8080/"
        },
        "id": "o9PkQmmlNrDg",
        "outputId": "1af9bcc3-4a4d-415a-db0a-5fefcf0cf696"
      },
      "execution_count": null,
      "outputs": [
        {
          "output_type": "stream",
          "name": "stdout",
          "text": [
            "Nilai mahasiswa yang sesuai dengan NIM akhir:\n",
            "Nama: Wonyoung, Matkul: Pemrograman Web, Nilai: 95\n",
            "Nama: Jihyo, Matkul: Jaringan Komputer, Nilai: 63\n"
          ]
        }
      ]
    },
    {
      "cell_type": "markdown",
      "source": [
        "## **Codelab 3**\n"
      ],
      "metadata": {
        "id": "1VqIh9RTOJ3g"
      }
    },
    {
      "cell_type": "markdown",
      "source": [
        "Buat generator expression yang akan menyimpan bilangan kelipatan dari tanggal lahir kalian (menggunakan input) dalam range(1000) dan tampilkan 10 data pertama dengan ketentuan:\n",
        "\n",
        "  a. NIM genap: gunakan teknik casting list dan slicing\n",
        "\n",
        "  b. NIM ganjil: gunakan looping dan method next()"
      ],
      "metadata": {
        "id": "MeUXdcGMOxJP"
      }
    },
    {
      "cell_type": "code",
      "source": [
        "# TO_DO 1: menerima input tanggal lahir\n",
        "tanggal_lahir = int(input(\"Masukkan tanggal lahir (1-31): \"))\n",
        "\n",
        "# TO_DO 2: membuat generator expression\n",
        "generator_kelipatan = (x for x in range(tanggal_lahir, 1000, tanggal_lahir))\n",
        "\n",
        "# TO_DO 3: mencetak hasil dalam baris\n",
        "print(\"10 data pertama:\", end=\" \")\n",
        "for _ in range(10):\n",
        "    print(next(generator_kelipatan), end=\" \")\n",
        "print()  # untuk memberi baris baru setelah mencetak semua data\n"
      ],
      "metadata": {
        "colab": {
          "base_uri": "https://localhost:8080/"
        },
        "id": "KoxWEvNiOQev",
        "outputId": "cc0a1cc1-4fc7-4c59-beed-3df3984076b7"
      },
      "execution_count": null,
      "outputs": [
        {
          "output_type": "stream",
          "name": "stdout",
          "text": [
            "Masukkan tanggal lahir (1-31): 2\n",
            "10 data pertama: 2 4 6 8 10 12 14 16 18 20 \n"
          ]
        }
      ]
    },
    {
      "cell_type": "markdown",
      "source": [
        "# Praktikum\n"
      ],
      "metadata": {
        "id": "yNahU9pfvtYq"
      }
    },
    {
      "cell_type": "markdown",
      "source": [
        "## **Tugas 1**"
      ],
      "metadata": {
        "id": "yVTV1gp4wftV"
      }
    },
    {
      "cell_type": "markdown",
      "source": [
        "<p align=\"justify\"> Melanjutkan tugas modul 1 agar memenuhi paradigma fungsional.\n",
        "\n",
        "<p align=\"justify\"> Pada modul sebelumnya, kalian telah membuat beberapa fungsi CRUD untukmenyelesaikan tugas praktikum modul 1. Pada modul 2 kali ini, tugas kalian adalah mengubah seluruh fungsi yang telah dibuat pada tugas modul 1 agar memenuhiparadigma fungsional, yaitu menjadi fungsi murni (pure function) dan deklaratif.Kalian harus bisa <b>menunjukkan dan menjelaskan</b> proses modifikasi yang kalian lakukan (<i>before-after code modification</i>) pada asisten."
      ],
      "metadata": {
        "id": "DFIlwufSwqLm"
      }
    },
    {
      "cell_type": "markdown",
      "source": [
        "### **Praktikum 1 - Modul 1 (Before Code)**"
      ],
      "metadata": {
        "id": "1wdrbCWoxRIc"
      }
    },
    {
      "cell_type": "markdown",
      "source": [
        "SOAL A (INTERMEDIATE)\n",
        "Buatlah sebuah CRUD sederhana dengan requirements berikut :\n",
        "\n",
        "1. Register\n",
        "- User bisa register menggunakan NIM dan passwordnya\n",
        "- Ketika berhasil register maka data user yang baru sudah tersimpan (bisa\n",
        "login)\n",
        "- Ketika berhasil register maka user baru diarahkan untuk mengisi biodata profil\n",
        "dan friends list (bisa diberikan menu skip)\n",
        "\n",
        "2. Login\n",
        "- User yang sudah terdaftar bisa melakukan login dan mengakses menu\n",
        "\n",
        "3. User Menu\n",
        "- Hanya mampu melihat profilnya dan datanya sendiri\n",
        "- User bisa menambahkan data profil yang sebelumnya di skip atau list\n",
        "temannya\n",
        "- User bisa mengedit data profilnya sendiri atau list temannya\n",
        "- User bisa menghapus data profil atau list temannya\n",
        "\n",
        "4. Menerapkan konsep dictionary dan list untuk menyimpan data.\n",
        "- Pastikan bahwa key dari setiap dictionary berkaitan sesuai dengan data dari\n",
        "akun masing2, misal : akun dengan nim 402 hanya bisa mengakses dictionary\n",
        "profile dan friendlist dari 402\n",
        "\n",
        "5. Contoh penyimpanan Data :\n",
        "- account = {'yourNIM': 'yourPassword' }\n",
        "- profil {'yourNIM': {'name': 'ucup', 'role': 'user', 'email':'example@mail.com'}}\n",
        "- friends = {'yourNIM': ['teman1', 'teman2']}"
      ],
      "metadata": {
        "id": "IEef6wusynNV"
      }
    },
    {
      "cell_type": "code",
      "source": [
        "# Database sederhana\n",
        "accounts = {}  # Menyimpan NIM dan password\n",
        "profiles = {}  # Menyimpan profil pengguna\n",
        "friends_list = {}  # Menyimpan daftar teman pengguna\n",
        "\n",
        "# Fungsi untuk register\n",
        "def register():\n",
        "    nim = input(\"Masukkan NIM: \")\n",
        "    if nim in accounts:\n",
        "        print(\"Akun dengan NIM ini sudah terdaftar!\")\n",
        "        return\n",
        "    password = input(\"Masukkan password: \")\n",
        "\n",
        "    # Simpan akun\n",
        "    accounts[nim] = password\n",
        "    print(\"Registrasi berhasil!\")\n",
        "\n",
        "    # Menu untuk melengkapi profil atau skip\n",
        "    skip = input(\"Ingin mengisi profil sekarang? (yes/no): \").lower()\n",
        "    if skip == 'yes':\n",
        "        create_profile(nim)\n",
        "    else:\n",
        "        profiles[nim] = {}  # Profil kosong\n",
        "        friends_list[nim] = []  # Daftar teman kosong\n",
        "        print(\"Profil akan diisi nanti.\")\n",
        "\n",
        "# Fungsi untuk membuat atau mengedit profil\n",
        "def create_profile(nim):\n",
        "    name = input(\"Masukkan nama: \")\n",
        "    role = input(\"Masukkan peran (user/admin): \")\n",
        "    email = input(\"Masukkan email: \")\n",
        "\n",
        "    # Simpan profil\n",
        "    profiles[nim] = {'name': name, 'role': role, 'email': email}\n",
        "\n",
        "    # Simpan daftar teman\n",
        "    friends_list[nim] = input(\"Masukkan daftar teman (pisahkan dengan koma): \").split(',')\n",
        "\n",
        "    print(\"Profil berhasil disimpan!\")\n",
        "\n",
        "# Fungsi untuk login\n",
        "def login():\n",
        "    nim = input(\"Masukkan NIM: \")\n",
        "    if nim not in accounts:\n",
        "        print(\"Akun tidak ditemukan!\")\n",
        "        return None\n",
        "\n",
        "    password = input(\"Masukkan password: \")\n",
        "    if accounts[nim] == password:\n",
        "        print(f\"Login berhasil! Selamat datang, {nim}\")\n",
        "        return nim\n",
        "    else:\n",
        "        print(\"Password salah!\")\n",
        "        return None\n",
        "\n",
        "# Fungsi untuk melihat profil pengguna\n",
        "def view_profile(nim):\n",
        "    profile = profiles.get(nim, {})\n",
        "    if not profile:\n",
        "        print(\"Profil kosong, silakan isi terlebih dahulu.\")\n",
        "    else:\n",
        "        print(\"Profil:\")\n",
        "        for key, value in profile.items():\n",
        "            print(f\"{key}: {value}\")\n",
        "    print(f\"Daftar teman: {', '.join(friends_list.get(nim, []))}\")\n",
        "\n",
        "# Fungsi untuk edit profil\n",
        "def edit_profile(nim):\n",
        "    print(\"Edit profil:\")\n",
        "    create_profile(nim)\n",
        "\n",
        "# Fungsi untuk menghapus profil dan daftar teman\n",
        "def delete_profile(nim):\n",
        "    if nim in profiles:\n",
        "        del profiles[nim]\n",
        "    if nim in friends_list:\n",
        "        del friends_list[nim]\n",
        "    print(\"Profil dan daftar teman berhasil dihapus.\")\n",
        "\n",
        "# Menu user\n",
        "def user_menu(nim):\n",
        "    while True:\n",
        "        print(\"\\nUser Menu:\")\n",
        "        print(\"1. Lihat profil\")\n",
        "        print(\"2. Edit profil\")\n",
        "        print(\"3. Hapus profil\")\n",
        "        print(\"4. Keluar\")\n",
        "\n",
        "        choice = input(\"Pilih opsi: \")\n",
        "        if choice == '1':\n",
        "            view_profile(nim)\n",
        "        elif choice == '2':\n",
        "            edit_profile(nim)\n",
        "        elif choice == '3':\n",
        "            delete_profile(nim)\n",
        "        elif choice == '4':\n",
        "            break\n",
        "        else:\n",
        "            print(\"Opsi tidak valid!\")\n",
        "\n",
        "# Main program\n",
        "while True:\n",
        "    print(\"\\nMenu Utama:\")\n",
        "    print(\"1. Register\")\n",
        "    print(\"2. Login\")\n",
        "    print(\"3. Keluar\")\n",
        "\n",
        "    menu_choice = input(\"Pilih opsi: \")\n",
        "\n",
        "    if menu_choice == '1':\n",
        "        register()\n",
        "    elif menu_choice == '2':\n",
        "        logged_nim = login()\n",
        "        if logged_nim:\n",
        "            user_menu(logged_nim)\n",
        "    elif menu_choice == '3':\n",
        "        print(\"Terima kasih!\")\n",
        "        break\n",
        "    else:\n",
        "        print(\"Opsi tidak valid!\")\n"
      ],
      "metadata": {
        "colab": {
          "base_uri": "https://localhost:8080/"
        },
        "id": "iSjta7ozw0dq",
        "outputId": "7ef7ce82-b2fb-4d28-f693-87324e14dbcb"
      },
      "execution_count": null,
      "outputs": [
        {
          "output_type": "stream",
          "name": "stdout",
          "text": [
            "\n",
            "Menu Utama:\n",
            "1. Register\n",
            "2. Login\n",
            "3. Keluar\n",
            "Pilih opsi: 3\n",
            "Terima kasih!\n"
          ]
        }
      ]
    },
    {
      "cell_type": "markdown",
      "source": [
        "### **Praktikum 1 - Modul 1 (After Code)**"
      ],
      "metadata": {
        "id": "fLtjj1qmxdcY"
      }
    },
    {
      "cell_type": "code",
      "source": [
        "accounts = {}\n",
        "profiles = {}\n",
        "friends_list = {}\n",
        "\n",
        "def register(accounts):\n",
        "    nim = input(\"Masukkan NIM: \")\n",
        "    if nim in accounts:\n",
        "        print(\"Akun dengan NIM ini sudah terdaftar!\")\n",
        "        return accounts\n",
        "    password = input(\"Masukkan password: \")\n",
        "\n",
        "    # Mengembalikan dictionary yang diperbarui\n",
        "    updated_accounts = {**accounts, nim: password}\n",
        "    print(\"Registrasi berhasil!\")\n",
        "    return updated_accounts\n",
        "\n",
        "def create_profile(nim, profiles, friends_list):\n",
        "    name = input(\"Masukkan nama: \")\n",
        "    role = input(\"Masukkan peran (user/admin): \")\n",
        "    email = input(\"Masukkan email: \")\n",
        "\n",
        "    # Mengembalikan profile dan friends_list yang diperbarui\n",
        "    updated_profiles = {**profiles, nim: {'name': name, 'role': role, 'email': email}}\n",
        "    updated_friends_list = {**friends_list, nim: input(\"Masukkan daftar teman (pisahkan dengan koma): \").split(',')}\n",
        "\n",
        "    print(\"Profil berhasil disimpan!\")\n",
        "    return updated_profiles, updated_friends_list\n",
        "\n",
        "def login(accounts):\n",
        "    nim = input(\"Masukkan NIM: \")\n",
        "    if nim not in accounts:\n",
        "        print(\"Akun tidak ditemukan!\")\n",
        "        return None\n",
        "\n",
        "    password = input(\"Masukkan password: \")\n",
        "    if accounts[nim] == password:\n",
        "        print(f\"Login berhasil! Selamat datang, {nim}\")\n",
        "        return nim\n",
        "    else:\n",
        "        print(\"Password salah!\")\n",
        "        return None\n",
        "\n",
        "def delete_profile(nim, profiles, friends_list):\n",
        "    updated_profiles = {key: value for key, value in profiles.items() if key != nim}\n",
        "    updated_friends_list = {key: value for key, value in friends_list.items() if key != nim}\n",
        "    print(\"Profil dan daftar teman berhasil dihapus.\")\n",
        "    return updated_profiles, updated_friends_list\n",
        "\n",
        "while True:\n",
        "    print(\"\\nMenu Utama:\")\n",
        "    print(\"1. Register\")\n",
        "    print(\"2. Login\")\n",
        "    print(\"3. Keluar\")\n",
        "\n",
        "    menu_choice = input(\"Pilih opsi: \")\n",
        "\n",
        "    if menu_choice == '1':\n",
        "        accounts = register(accounts)\n",
        "    elif menu_choice == '2':\n",
        "        logged_nim = login(accounts)\n",
        "        if logged_nim:\n",
        "            # Operasikan dengan nim yang sudah login\n",
        "            while True:\n",
        "                print(\"\\nUser Menu:\")\n",
        "                print(\"1. Lihat profil\")\n",
        "                print(\"2. Edit profil\")\n",
        "                print(\"3. Hapus profil\")\n",
        "                print(\"4. Keluar\")\n",
        "\n",
        "                choice = input(\"Pilih opsi: \")\n",
        "                if choice == '1':\n",
        "                    view_profile(logged_nim)\n",
        "                elif choice == '2':\n",
        "                    profiles, friends_list = create_profile(logged_nim, profiles, friends_list)\n",
        "                elif choice == '3':\n",
        "                    profiles, friends_list = delete_profile(logged_nim, profiles, friends_list)\n",
        "                elif choice == '4':\n",
        "                    break\n",
        "                else:\n",
        "                    print(\"Opsi tidak valid!\")\n",
        "    elif menu_choice == '3':\n",
        "        print(\"Terima kasih!\")\n",
        "        break\n",
        "    else:\n",
        "        print(\"Opsi tidak valid!\")\n"
      ],
      "metadata": {
        "colab": {
          "base_uri": "https://localhost:8080/"
        },
        "id": "geE2MLqGyQKu",
        "outputId": "b801be80-aa97-4fc8-8a65-98221c706b5f"
      },
      "execution_count": null,
      "outputs": [
        {
          "output_type": "stream",
          "name": "stdout",
          "text": [
            "\n",
            "Menu Utama:\n",
            "1. Register\n",
            "2. Login\n",
            "3. Keluar\n",
            "Pilih opsi: 3\n",
            "Terima kasih!\n"
          ]
        }
      ]
    },
    {
      "cell_type": "markdown",
      "source": [
        "### Praktikum 2 - Modul 1 (Before Code)"
      ],
      "metadata": {
        "id": "bTuEmtc_30L3"
      }
    },
    {
      "cell_type": "code",
      "source": [
        "# Data Awal (Bioskop)\n",
        "films = (\n",
        "    (\"Film1\", \"120 Menit\"),\n",
        "    (\"Film2\", \"150 Menit\"),\n",
        "    (\"Film3\", \"100 Menit\")\n",
        ")\n",
        "\n",
        "# Database pengguna\n",
        "accounts = {}  # {'NIM': 'password'}\n",
        "profiles = {}  # {'NIM': {'name': 'John', 'email': 'john@mail.com'}}\n",
        "transactions = {}  # {'NIM': [{'film': 'Film1', 'jumlah': 2, 'total': 50000}]}\n",
        "\n",
        "# Fungsi untuk register\n",
        "def register():\n",
        "    nim = input(\"Masukkan NIM: \")\n",
        "    if nim in accounts:\n",
        "        print(\"Akun dengan NIM ini sudah terdaftar!\")\n",
        "        return\n",
        "    password = input(\"Masukkan password: \")\n",
        "\n",
        "    # Simpan akun\n",
        "    accounts[nim] = password\n",
        "    print(\"Registrasi berhasil!\")\n",
        "\n",
        "    # Menu untuk mengisi profil\n",
        "    create_profile(nim)\n",
        "\n",
        "# Fungsi untuk membuat atau mengedit profil\n",
        "def create_profile(nim):\n",
        "    name = input(\"Masukkan nama: \")\n",
        "    email = input(\"Masukkan email: \")\n",
        "\n",
        "    # Simpan profil\n",
        "    profiles[nim] = {'name': name, 'email': email}\n",
        "    transactions[nim] = []  # List untuk menyimpan pesanan tiket\n",
        "\n",
        "    print(\"Profil berhasil disimpan!\")\n",
        "\n",
        "# Fungsi untuk login\n",
        "def login():\n",
        "    nim = input(\"Masukkan NIM: \")\n",
        "    if nim not in accounts:\n",
        "        print(\"Akun tidak ditemukan!\")\n",
        "        return None\n",
        "\n",
        "    password = input(\"Masukkan password: \")\n",
        "    if accounts[nim] == password:\n",
        "        print(f\"Login berhasil! Selamat datang, {nim}\")\n",
        "        return nim\n",
        "    else:\n",
        "        print(\"Password salah!\")\n",
        "        return None\n",
        "\n",
        "# Fungsi untuk melihat profil pengguna\n",
        "def view_profile(nim):\n",
        "    profile = profiles.get(nim, {})\n",
        "    if not profile:\n",
        "        print(\"Profil kosong.\")\n",
        "    else:\n",
        "        print(\"Profil:\")\n",
        "        for key, value in profile.items():\n",
        "            print(f\"{key}: {value}\")\n",
        "    view_transactions(nim)\n",
        "\n",
        "# Fungsi untuk melihat transaksi pemesanan tiket\n",
        "def view_transactions(nim):\n",
        "    print(\"\\nDaftar Pesanan Tiket:\")\n",
        "    for i, transaction in enumerate(transactions[nim], 1):\n",
        "        print(f\"{i}. Film: {transaction['film']}, Jumlah Tiket: {transaction['jumlah']}, Total: {transaction['total']}\")\n",
        "\n",
        "# Fungsi untuk menambah pesanan tiket\n",
        "def add_order(nim):\n",
        "    print(\"\\nDaftar Film:\")\n",
        "    for i, film in enumerate(films, 1):\n",
        "        print(f\"{i}. {film[0]} ({film[1]})\")\n",
        "\n",
        "    choice = int(input(\"Pilih nomor film yang ingin dipesan: \")) - 1\n",
        "    if choice < 0 or choice >= len(films):\n",
        "        print(\"Pilihan tidak valid!\")\n",
        "        return\n",
        "\n",
        "    jumlah = int(input(\"Masukkan jumlah tiket: \"))\n",
        "    harga_tiket = 25000  # Harga tiket per film\n",
        "    total = harga_tiket * jumlah\n",
        "\n",
        "    # Simpan transaksi\n",
        "    transactions[nim].append({'film': films[choice][0], 'jumlah': jumlah, 'total': total})\n",
        "    print(f\"Pesanan berhasil! Total harga: {total}\")\n",
        "\n",
        "# Fungsi untuk menghapus pesanan\n",
        "def delete_order(nim):\n",
        "    view_transactions(nim)\n",
        "    choice = int(input(\"Pilih nomor pesanan yang ingin dihapus: \")) - 1\n",
        "    if choice < 0 or choice >= len(transactions[nim]):\n",
        "        print(\"Pilihan tidak valid!\")\n",
        "        return\n",
        "\n",
        "    del transactions[nim][choice]\n",
        "    print(\"Pesanan berhasil dihapus.\")\n",
        "\n",
        "# Menu pengguna\n",
        "def user_menu(nim):\n",
        "    while True:\n",
        "        print(\"\\nUser Menu:\")\n",
        "        print(\"1. Lihat profil\")\n",
        "        print(\"2. Tambah pesanan tiket\")\n",
        "        print(\"3. Hapus pesanan tiket\")\n",
        "        print(\"4. Keluar\")\n",
        "\n",
        "        choice = input(\"Pilih opsi: \")\n",
        "        if choice == '1':\n",
        "            view_profile(nim)\n",
        "        elif choice == '2':\n",
        "            add_order(nim)\n",
        "        elif choice == '3':\n",
        "            delete_order(nim)\n",
        "        elif choice == '4':\n",
        "            break\n",
        "        else:\n",
        "            print(\"Opsi tidak valid!\")\n",
        "\n",
        "# Program Utama\n",
        "while True:\n",
        "    print(\"\\nMenu Utama:\")\n",
        "    print(\"1. Register\")\n",
        "    print(\"2. Login\")\n",
        "    print(\"3. Keluar\")\n",
        "\n",
        "    menu_choice = input(\"Pilih opsi: \")\n",
        "\n",
        "    if menu_choice == '1':\n",
        "        register()\n",
        "    elif menu_choice == '2':\n",
        "        logged_nim = login()\n",
        "        if logged_nim:\n",
        "            user_menu(logged_nim)\n",
        "    elif menu_choice == '3':\n",
        "        print(\"Terima kasih!\")\n",
        "        break\n",
        "    else:\n",
        "        print(\"Opsi tidak valid!\")\n"
      ],
      "metadata": {
        "colab": {
          "base_uri": "https://localhost:8080/"
        },
        "id": "2tq1yT2M36u2",
        "outputId": "2d62ab00-0f8f-4198-de61-cb4e4402773e"
      },
      "execution_count": null,
      "outputs": [
        {
          "output_type": "stream",
          "name": "stdout",
          "text": [
            "\n",
            "Menu Utama:\n",
            "1. Register\n",
            "2. Login\n",
            "3. Keluar\n",
            "Pilih opsi: 3\n",
            "Terima kasih!\n"
          ]
        }
      ]
    },
    {
      "cell_type": "markdown",
      "source": [
        "### **Praktikum 2 - Modul 1 (After Code)**"
      ],
      "metadata": {
        "id": "teovA_jW4d53"
      }
    },
    {
      "cell_type": "code",
      "source": [
        "films = (\n",
        "    (\"Film1\", \"120 Menit\"),\n",
        "    (\"Film2\", \"150 Menit\"),\n",
        "    (\"Film3\", \"100 Menit\")\n",
        ")\n",
        "\n",
        "def register(accounts, profiles, transactions):\n",
        "    nim = input(\"Masukkan NIM: \")\n",
        "    if nim in accounts:\n",
        "        print(\"Akun dengan NIM ini sudah terdaftar!\")\n",
        "        return accounts, profiles, transactions\n",
        "    password = input(\"Masukkan password: \")\n",
        "\n",
        "    accounts = {**accounts, nim: password}\n",
        "    print(\"Registrasi berhasil!\")\n",
        "\n",
        "    profiles, transactions = create_profile(nim, profiles, transactions)\n",
        "    return accounts, profiles, transactions\n",
        "\n",
        "def create_profile(nim, profiles, transactions):\n",
        "    name = input(\"Masukkan nama: \")\n",
        "    email = input(\"Masukkan email: \")\n",
        "\n",
        "    profiles = {**profiles, nim: {'name': name, 'email': email}}\n",
        "    transactions = {**transactions, nim: []}  # List kosong untuk transaksi tiket\n",
        "\n",
        "    print(\"Profil berhasil disimpan!\")\n",
        "    return profiles, transactions\n",
        "\n",
        "def login(accounts):\n",
        "    nim = input(\"Masukkan NIM: \")\n",
        "    if nim not in accounts:\n",
        "        print(\"Akun tidak ditemukan!\")\n",
        "        return None\n",
        "\n",
        "    password = input(\"Masukkan password: \")\n",
        "    if accounts[nim] == password:\n",
        "        print(f\"Login berhasil! Selamat datang, {nim}\")\n",
        "        return nim\n",
        "    else:\n",
        "        print(\"Password salah!\")\n",
        "        return None\n",
        "\n",
        "# Fungsi untuk melihat profil pengguna\n",
        "def view_profile(nim, profiles, transactions):\n",
        "    profile = profiles.get(nim, {})\n",
        "    if not profile:\n",
        "        print(\"Profil kosong.\")\n",
        "    else:\n",
        "        print(\"Profil:\")\n",
        "        for key, value in profile.items():\n",
        "            print(f\"{key}: {value}\")\n",
        "    view_transactions(nim, transactions)\n",
        "\n",
        "# Fungsi untuk melihat transaksi pemesanan tiket\n",
        "def view_transactions(nim, transactions):\n",
        "    print(\"\\nDaftar Pesanan Tiket:\")\n",
        "    for i, transaction in enumerate(transactions[nim], 1):\n",
        "        print(f\"{i}. Film: {transaction['film']}, Jumlah Tiket: {transaction['jumlah']}, Total: {transaction['total']}\")\n",
        "\n",
        "# Fungsi untuk menambah pesanan tiket\n",
        "def add_order(nim, films, transactions):\n",
        "    print(\"\\nDaftar Film:\")\n",
        "    for i, film in enumerate(films, 1):\n",
        "        print(f\"{i}. {film[0]} ({film[1]})\")\n",
        "\n",
        "    choice = int(input(\"Pilih nomor film yang ingin dipesan: \")) - 1\n",
        "    if choice < 0 or choice >= len(films):\n",
        "        print(\"Pilihan tidak valid!\")\n",
        "        return transactions\n",
        "\n",
        "    jumlah = int(input(\"Masukkan jumlah tiket: \"))\n",
        "    harga_tiket = 25000  # Harga tiket per film\n",
        "    total = harga_tiket * jumlah\n",
        "\n",
        "    # Tambahkan transaksi\n",
        "    new_transaction = {'film': films[choice][0], 'jumlah': jumlah, 'total': total}\n",
        "    transactions[nim] = transactions[nim] + [new_transaction]\n",
        "    print(f\"Pesanan berhasil! Total harga: {total}\")\n",
        "    return transactions\n",
        "\n",
        "# Fungsi untuk menghapus pesanan\n",
        "def delete_order(nim, transactions):\n",
        "    view_transactions(nim, transactions)\n",
        "    choice = int(input(\"Pilih nomor pesanan yang ingin dihapus: \")) - 1\n",
        "    if choice < 0 or choice >= len(transactions[nim]):\n",
        "        print(\"Pilihan tidak valid!\")\n",
        "        return transactions\n",
        "\n",
        "    # Hapus transaksi\n",
        "    transactions[nim] = transactions[nim][:choice] + transactions[nim][choice + 1:]\n",
        "    print(\"Pesanan berhasil dihapus.\")\n",
        "    return transactions\n",
        "\n",
        "# Menu pengguna\n",
        "def user_menu(nim, films, transactions, profiles):\n",
        "    while True:\n",
        "        print(\"\\nUser Menu:\")\n",
        "        print(\"1. Lihat profil\")\n",
        "        print(\"2. Tambah pesanan tiket\")\n",
        "        print(\"3. Hapus pesanan tiket\")\n",
        "        print(\"4. Keluar\")\n",
        "\n",
        "        choice = input(\"Pilih opsi: \")\n",
        "        if choice == '1':\n",
        "            view_profile(nim, profiles, transactions)\n",
        "        elif choice == '2':\n",
        "            transactions = add_order(nim, films, transactions)\n",
        "        elif choice == '3':\n",
        "            transactions = delete_order(nim, transactions)\n",
        "        elif choice == '4':\n",
        "            break\n",
        "        else:\n",
        "            print(\"Opsi tidak valid!\")\n",
        "    return transactions\n",
        "\n",
        "# Program Utama\n",
        "def main():\n",
        "    accounts = {}\n",
        "    profiles = {}\n",
        "    transactions = {}\n",
        "\n",
        "    while True:\n",
        "        print(\"\\nMenu Utama:\")\n",
        "        print(\"1. Register\")\n",
        "        print(\"2. Login\")\n",
        "        print(\"3. Keluar\")\n",
        "\n",
        "        menu_choice = input(\"Pilih opsi: \")\n",
        "\n",
        "        if menu_choice == '1':\n",
        "            accounts, profiles, transactions = register(accounts, profiles, transactions)\n",
        "        elif menu_choice == '2':\n",
        "            logged_nim = login(accounts)\n",
        "            if logged_nim:\n",
        "                transactions = user_menu(logged_nim, films, transactions, profiles)\n",
        "        elif menu_choice == '3':\n",
        "            print(\"Terima kasih!\")\n",
        "            break\n",
        "        else:\n",
        "            print(\"Opsi tidak valid!\")\n",
        "\n",
        "# Panggil fungsi utama\n",
        "main()\n"
      ],
      "metadata": {
        "id": "bL-VdxJ04eMX",
        "colab": {
          "base_uri": "https://localhost:8080/"
        },
        "outputId": "3d150b2e-48a1-4f03-d047-6a15ecd09d0a"
      },
      "execution_count": 33,
      "outputs": [
        {
          "output_type": "stream",
          "name": "stdout",
          "text": [
            "\n",
            "Menu Utama:\n",
            "1. Register\n",
            "2. Login\n",
            "3. Keluar\n",
            "Pilih opsi: 3\n",
            "Terima kasih!\n"
          ]
        }
      ]
    },
    {
      "cell_type": "markdown",
      "source": [
        "## **Tugas 2**"
      ],
      "metadata": {
        "id": "QSa-BQ-ByW-U"
      }
    },
    {
      "cell_type": "markdown",
      "source": [
        "Tentang data reservasi hotel dengan ketentuan sebagai berikut:\n",
        "\n",
        "1. <p align=\"justify\"> Buatlah sebuah daftar atau list ‘data_penginapan’ yang berisi room ID,\n",
        "customer name, expenses, jumlah orang, dan tanggal menginap yang disusun\n",
        "dalam struktur data dictionary! Berikut contoh list untuk satu tanggal <b>(tidak boleh identik dengan contoh di bawah)</b> :"
      ],
      "metadata": {
        "id": "dJ9juY3f-SIN"
      }
    },
    {
      "cell_type": "code",
      "source": [
        "data_penginapan = [\n",
        "    {\"room_id\": \"GJ123\", \"cust_name\": \"Windut\", \"expenses\": 175000, \"jumlah_hari\": 2, \"tanggal\": \"2024-08-03\"},\n",
        "    {\"room_id\": \"GJ124\", \"cust_name\": \"Amonali\", \"expenses\": 120000, \"jumlah_hari\": 2, \"tanggal\": \"2024-08-03\"},\n",
        "    {\"room_id\": \"GJ125\", \"cust_name\": \"Detsit\", \"expenses\": 140000, \"jumlah_hari\": 4, \"tanggal\": \"2024-08-03\"},\n",
        "    {\"room_id\": \"GJ126\", \"cust_name\": \"Bocil Telat\", \"expenses\": 150000, \"jumlah_hari\": 3, \"tanggal\": \"2024-08-03\"},\n",
        "\n",
        "    {\"room_id\": \"GJ127\", \"cust_name\": \"Sandi\", \"expenses\": 160000, \"jumlah_hari\": 1, \"tanggal\": \"2024-08-04\"},\n",
        "    {\"room_id\": \"GJ128\", \"cust_name\": \"Kurnia\", \"expenses\": 135000, \"jumlah_hari\": 3, \"tanggal\": \"2024-08-04\"},\n",
        "    {\"room_id\": \"GJ129\", \"cust_name\": \"Reza\", \"expenses\": 145000, \"jumlah_hari\": 2, \"tanggal\": \"2024-08-04\"},\n",
        "    {\"room_id\": \"GJ130\", \"cust_name\": \"Alya\", \"expenses\": 165000, \"jumlah_hari\": 1, \"tanggal\": \"2024-08-04\"},\n",
        "\n",
        "    {\"room_id\": \"GJ131\", \"cust_name\": \"Bram\", \"expenses\": 200000, \"jumlah_hari\": 2, \"tanggal\": \"2024-08-05\"},\n",
        "    {\"room_id\": \"GJ132\", \"cust_name\": \"Sofi\", \"expenses\": 180000, \"jumlah_hari\": 1, \"tanggal\": \"2024-08-05\"},\n",
        "    {\"room_id\": \"GJ133\", \"cust_name\": \"Dina\", \"expenses\": 170000, \"jumlah_hari\": 3, \"tanggal\": \"2024-08-05\"},\n",
        "    {\"room_id\": \"GJ134\", \"cust_name\": \"Raka\", \"expenses\": 160000, \"jumlah_hari\": 2, \"tanggal\": \"2024-08-05\"}\n",
        "]\n"
      ],
      "metadata": {
        "id": "3RbzzX0t-FKP"
      },
      "execution_count": 29,
      "outputs": []
    },
    {
      "cell_type": "markdown",
      "source": [
        "2. <p align=\"justify\"> Kemudian buatlah fungsi <code>‘cari_customer’</code> sesuai inputan user yang akan\n",
        "mengembalikan semua informasi customer beserta total tagihan customer.."
      ],
      "metadata": {
        "id": "cNQScgbk-mEH"
      }
    },
    {
      "cell_type": "code",
      "source": [
        "def cari_customer(nama):\n",
        "    found = False\n",
        "    for data in data_penginapan:\n",
        "        if data['cust_name'].lower() == nama.lower():\n",
        "            found = True\n",
        "            total_tagihan = data['expenses'] * data['jumlah_hari']\n",
        "            print(f\"ID Kamar: {data['room_id']}\")\n",
        "            print(f\"Tagihan: {data['expenses']}\")\n",
        "            print(f\"Jumlah Hari: {data['jumlah_hari']}\")\n",
        "            print(f\"Tanggal: {data['tanggal']}\")\n",
        "            print(f\"Total Tagihan: {total_tagihan}\")\n",
        "            print(\"---------------------\")\n",
        "\n",
        "    if not found:\n",
        "        print(f\"Customer dengan nama '{nama}' tidak ditemukan\")\n",
        "\n",
        "# Example usage\n",
        "cari_customer(\"Windut\")\n",
        "cari_customer(\"Sandi\")\n",
        "cari_customer(\"Bram\")\n"
      ],
      "metadata": {
        "colab": {
          "base_uri": "https://localhost:8080/"
        },
        "id": "dXh6Aj0H-pbn",
        "outputId": "ebf8fde7-752d-4f9e-e8c5-4e61b7b1e504"
      },
      "execution_count": 48,
      "outputs": [
        {
          "output_type": "stream",
          "name": "stdout",
          "text": [
            "ID Kamar: GJ123\n",
            "Tagihan: 175000\n",
            "Jumlah Hari: 2\n",
            "Tanggal: 2024-08-03\n",
            "Total Tagihan: 350000\n",
            "---------------------\n",
            "ID Kamar: GJ127\n",
            "Tagihan: 160000\n",
            "Jumlah Hari: 1\n",
            "Tanggal: 2024-08-04\n",
            "Total Tagihan: 160000\n",
            "---------------------\n",
            "ID Kamar: GJ131\n",
            "Tagihan: 200000\n",
            "Jumlah Hari: 2\n",
            "Tanggal: 2024-08-05\n",
            "Total Tagihan: 400000\n",
            "---------------------\n"
          ]
        }
      ]
    },
    {
      "cell_type": "markdown",
      "source": [
        "<pre><b>    CATATAN</b>\n",
        "    a.  Harus terdapat 3 tanggal berbeda, di mana di setiap tanggal terdapat 4\n",
        "    customer berbeda (total 12 customer).\n",
        "    b.  IID produk diawali dengan GJ diikuti 3 angka acak. Contoh GJ123,\n",
        "    GJ456, dan seterusnya.\n",
        "\n",
        "    <b>CONTOH OUTPUT</b>\n",
        "    Masukkan nama customer: Windut\n",
        "    ID Kamar: GJxxx\n",
        "    Tagihan: 175000\n",
        "    Jumlah Orang: 2\n",
        "    Tanggal: 2024-08-03\n",
        "    Total Tagihan: 350000\n",
        "    ---------------------\n",
        "    Masukkan nama customer: Brando\n",
        "    Customer dengan nama 'Brando' tidak ditemukan\n",
        "\n",
        "    *) di atas hanya contoh dari 1 data, sementara kalian harus memiliki 12 data customer.\n",
        "    **) Format output bisa dikreasikan secara bebas."
      ],
      "metadata": {
        "id": "IYhVAgPE-v2G"
      }
    },
    {
      "cell_type": "markdown",
      "source": [
        "3. <p align=\"justify\"> Buatlah fungsi <code>‘rata_rata_menginap’</code> sebagai generator untuk menghitung\n",
        "rata-rata jumlah orang yang menginap tiap harinya.\n"
      ],
      "metadata": {
        "id": "woGzhiCU-_EG"
      }
    },
    {
      "cell_type": "code",
      "source": [
        "def rata_rata_menginap():\n",
        "    tanggal_data = {}\n",
        "\n",
        "    # Group customers by date and calculate average\n",
        "    for data in data_penginapan:\n",
        "        tanggal = data['tanggal']\n",
        "        if tanggal not in tanggal_data:\n",
        "            tanggal_data[tanggal] = []\n",
        "        tanggal_data[tanggal].append(data['jumlah_hari'])\n",
        "\n",
        "    # Calculate and print the average\n",
        "    for tanggal, hari_list in tanggal_data.items():\n",
        "        rata2 = sum(hari_list) / len(hari_list)\n",
        "        print(f\"Tanggal: {tanggal}, Rata-rata yang menginap: {rata2:.2f}\")\n",
        "\n",
        "# Example usage\n",
        "rata_rata_menginap()\n"
      ],
      "metadata": {
        "colab": {
          "base_uri": "https://localhost:8080/"
        },
        "id": "AY8fheam_ZL1",
        "outputId": "c8ba53bb-0337-466b-cf93-52545f2932ae"
      },
      "execution_count": 31,
      "outputs": [
        {
          "output_type": "stream",
          "name": "stdout",
          "text": [
            "Tanggal: 2024-08-03, Rata-rata yang menginap: 2.75\n",
            "Tanggal: 2024-08-04, Rata-rata yang menginap: 1.75\n",
            "Tanggal: 2024-08-05, Rata-rata yang menginap: 2.00\n"
          ]
        }
      ]
    },
    {
      "cell_type": "markdown",
      "source": [
        "4. Menerapkan konsep dictionary dan list untuk menyimpan data.\n",
        "- Pastikan bahwa key dari setiap dictionary berkaitan sesuai dengan data dari\n",
        "akun masing2, misal : akun dengan nim 402 hanya bisa mengakses dictionary\n",
        "profile dan friendlist dari 402"
      ],
      "metadata": {
        "id": "4vO9Sr9Z_sDn"
      }
    },
    {
      "cell_type": "code",
      "source": [
        "def total_pendapatan():\n",
        "    tanggal_data = {}\n",
        "\n",
        "    # Group data by date and calculate total revenue and customers\n",
        "    for data in data_penginapan:\n",
        "        tanggal = data['tanggal']\n",
        "        if tanggal not in tanggal_data:\n",
        "            tanggal_data[tanggal] = {\"total_pendapatan\": 0, \"jumlah_customer\": 0}\n",
        "\n",
        "        tanggal_data[tanggal][\"total_pendapatan\"] += data['expenses'] * data['jumlah_hari']\n",
        "        tanggal_data[tanggal][\"jumlah_customer\"] += 1\n",
        "\n",
        "    # Print the results\n",
        "    for tanggal, info in tanggal_data.items():\n",
        "        print(f\"Tanggal: {tanggal}, Jumlah Customer: {info['jumlah_customer']}, Total Pendapatan: {info['total_pendapatan']}\")\n",
        "\n",
        "# Example usage\n",
        "total_pendapatan()\n"
      ],
      "metadata": {
        "colab": {
          "base_uri": "https://localhost:8080/"
        },
        "id": "MbyGJw2q_xgH",
        "outputId": "aec4d6a9-b6fb-4079-dab6-d02b742629b6"
      },
      "execution_count": 32,
      "outputs": [
        {
          "output_type": "stream",
          "name": "stdout",
          "text": [
            "Tanggal: 2024-08-03, Jumlah Customer: 4, Total Pendapatan: 1600000\n",
            "Tanggal: 2024-08-04, Jumlah Customer: 4, Total Pendapatan: 1020000\n",
            "Tanggal: 2024-08-05, Jumlah Customer: 4, Total Pendapatan: 1410000\n"
          ]
        }
      ]
    }
  ]
}